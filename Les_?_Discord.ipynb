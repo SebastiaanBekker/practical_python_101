{
  "nbformat": 4,
  "nbformat_minor": 0,
  "metadata": {
    "colab": {
      "provenance": [],
      "authorship_tag": "ABX9TyNIctJItGkCkPCBIa/1hmk6",
      "include_colab_link": true
    },
    "kernelspec": {
      "name": "python3",
      "display_name": "Python 3"
    },
    "language_info": {
      "name": "python"
    }
  },
  "cells": [
    {
      "cell_type": "markdown",
      "metadata": {
        "id": "view-in-github",
        "colab_type": "text"
      },
      "source": [
        "<a href=\"https://colab.research.google.com/github/SebastiaanBekker/practical_python_101/blob/master/Les_%3F_Discord.ipynb\" target=\"_parent\"><img src=\"https://colab.research.google.com/assets/colab-badge.svg\" alt=\"Open In Colab\"/></a>"
      ]
    },
    {
      "cell_type": "code",
      "execution_count": null,
      "metadata": {
        "id": "zJK8VBMe6QHU"
      },
      "outputs": [],
      "source": [
        "\n",
        "!pip install discord.py\n",
        "\n"
      ]
    },
    {
      "cell_type": "code",
      "source": [
        "import discord\n",
        "from discord.ext import commands\n"
      ],
      "metadata": {
        "id": "EfXjs-5L6Y2P"
      },
      "execution_count": null,
      "outputs": []
    },
    {
      "cell_type": "code",
      "source": [
        "bot = commands.Bot(command_prefix='!') #You can choose any prefix you like.\n"
      ],
      "metadata": {
        "id": "ls4raF056bkU"
      },
      "execution_count": null,
      "outputs": []
    },
    {
      "cell_type": "code",
      "source": [
        "@bot.command()\n",
        "async def hello(ctx):\n",
        "    await ctx.send('Hello, I am your Discord bot!')\n"
      ],
      "metadata": {
        "id": "0Briuxkd6h6F"
      },
      "execution_count": null,
      "outputs": []
    },
    {
      "cell_type": "code",
      "source": [
        "bot.run('YOUR_TOKEN')\n"
      ],
      "metadata": {
        "id": "sK_8SJ6M6jyM"
      },
      "execution_count": null,
      "outputs": []
    },
    {
      "cell_type": "markdown",
      "source": [
        "Replace 'YOUR_TOKEN' with the token of your Discord bot. To get a token, you'll need to create a bot application on the Discord Developer Portal (https://discord.com/developers/applications). After creating the bot application, you can copy the token and replace 'YOUR_TOKEN' with it."
      ],
      "metadata": {
        "id": "mmn6Qz857DdP"
      }
    },
    {
      "cell_type": "code",
      "source": [
        "Authorize the bot: To add the bot to your Discord server, you'll need to generate an OAuth2 URL. Visit the Discord Developer Portal, select your bot application, go to the \"OAuth2\" section, and select the necessary bot scopes and permissions. Once you've configured the permissions, copy the generated URL and open it in your browser to authorize the bot on your server.\n"
      ],
      "metadata": {
        "id": "6FcRnMjI6ju5"
      },
      "execution_count": null,
      "outputs": []
    },
    {
      "cell_type": "code",
      "source": [],
      "metadata": {
        "id": "4cHXKJOR6jrs"
      },
      "execution_count": null,
      "outputs": []
    },
    {
      "cell_type": "code",
      "source": [],
      "metadata": {
        "id": "43gHZ6ov6jom"
      },
      "execution_count": null,
      "outputs": []
    },
    {
      "cell_type": "code",
      "source": [],
      "metadata": {
        "id": "qNIjhCo66jlR"
      },
      "execution_count": null,
      "outputs": []
    },
    {
      "cell_type": "code",
      "source": [],
      "metadata": {
        "id": "_39_20jt6jiM"
      },
      "execution_count": null,
      "outputs": []
    }
  ]
}