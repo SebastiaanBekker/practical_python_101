{
  "nbformat": 4,
  "nbformat_minor": 0,
  "metadata": {
    "colab": {
      "provenance": [],
      "toc_visible": true,
      "authorship_tag": "ABX9TyPYSU4EFC1DYsb/eUCcfJ4K",
      "include_colab_link": true
    },
    "kernelspec": {
      "name": "python3",
      "display_name": "Python 3"
    },
    "language_info": {
      "name": "python"
    }
  },
  "cells": [
    {
      "cell_type": "markdown",
      "metadata": {
        "id": "view-in-github",
        "colab_type": "text"
      },
      "source": [
        "<a href=\"https://colab.research.google.com/github/SebastiaanBekker/practical_python_101/blob/master/Les1_F1_en_Variabelen.ipynb\" target=\"_parent\"><img src=\"https://colab.research.google.com/assets/colab-badge.svg\" alt=\"Open In Colab\"/></a>"
      ]
    },
    {
      "cell_type": "markdown",
      "source": [
        "# Doel\n",
        "\n",
        "Dit notebook laat zien hoe je python kunt gebruiken om externe data te visaliseren.\n",
        "\n",
        "https://tinyurl.com/y29dwdk4\n",
        "\n",
        "\n",
        "**De data die we vandaag gebruiken is de data van FF1, een exerne databron.**"
      ],
      "metadata": {
        "id": "QEQep8l8rLC2"
      }
    },
    {
      "cell_type": "markdown",
      "source": [
        " # Python\n",
        "## Geschiedenis\n",
        "Uitgevonden in 1991 door een Nederlander, [Guido van Rossum](https://(https://nl.wikipedia.org/wiki/Guido_van_Rossum)\n",
        "Gemaakt om programmeren makkelijker te maken. Veel wordt voor je gedaan/bedacht. Dat maakt het soms wel lastiger ;-)\n",
        "## Waar gebruik je het voor?\n",
        "Software Applicaties ( web,games,dektop,IOT)\n",
        "Taak Automatisering - DevOps, maar ook administratie\n",
        "Data science\n",
        "Web scraping\n",
        "## Waarom Python?\n",
        "Makkelijk te leren, maar ook makkelijk om lastige dingen mee te doen.\n",
        "Naast de basis is er veel code gemaakt die je kan gebruiken, bijvoorbeeld voor machine learning (zie hieronder)\n",
        "## Hoe?\n",
        "- Via de command line (lastig)\n",
        "- In de browser: Jupyter, Kaggle, Databricks, Anaconda, Google Colab\n",
        "- Via een IDE (programmeer omgeving): PyCharm, VSCode, Spyder\n",
        "\n",
        "## De opzet\n",
        "Iedere week een werkend voorbeeld, met cellen om zelf te proberen/op te lossen/ aan te passen. Zo leer je een beetje wat er kan en welke basis principes er zijn. Veel is het oplosssen van fouten, zodat je snel ziet hoe de code in elkaar zit. Handig in deze chat gpt tijd ;-)"
      ],
      "metadata": {
        "id": "_wEeehzAraJ2"
      }
    },
    {
      "cell_type": "markdown",
      "source": [
        "# Deel 1: comments\n",
        "De computer zal alles wat je neerzet uitvoeren, ongeacht wat er staat. Maar voor mensen is het handig als je uitlegt wat je doet. \n",
        "\n",
        "Dat doe je met comments. In python is dat met een #. Alles wat na de # staat wordt niet uitgevoerd. Daarmee kun je ook code even ‘uitzetten’ om iets te testen. Hieronder gebruiken we comments om de code uit te leggen."
      ],
      "metadata": {
        "id": "sDpgC6EusvhU"
      }
    },
    {
      "cell_type": "code",
      "source": [
        "# Zoals gezegd, kun je veel code 'ophalen', kijk wel of je de bron vertrouw\n",
        "# Ophalen doe je met het commando 'import'\n",
        "# Hieronder laden we code die we nodig hebben om data te tonen van F1.\n",
        "# in dit geval komt het van deze site: https://docs.fastf1.dev\n",
        "\n",
        "import pandas as pd\n",
        "%pip install fastf1 # dit installeert de code in het notebook\n",
        "import fastf1 as ff1 # dit laadt de code in het notebook\n",
        "\n",
        "from matplotlib import pyplot as plt\n",
        "from matplotlib.collections import LineCollection\n",
        "import matplotlib as mpl\n",
        "import numpy as np"
      ],
      "metadata": {
        "colab": {
          "base_uri": "https://localhost:8080/"
        },
        "id": "Htx0wJsDq-jc",
        "outputId": "5b7fe887-f028-42c5-e6b5-3d067669dd91"
      },
      "execution_count": 2,
      "outputs": [
        {
          "output_type": "stream",
          "name": "stdout",
          "text": [
            "Looking in indexes: https://pypi.org/simple, https://us-python.pkg.dev/colab-wheels/public/simple/\n",
            "Collecting fastf1\n",
            "  Downloading fastf1-3.0.4-py3-none-any.whl (113 kB)\n",
            "\u001b[2K     \u001b[90m━━━━━━━━━━━━━━━━━━━━━━━━━━━━━━━━━━━━━━━\u001b[0m \u001b[32m113.5/113.5 kB\u001b[0m \u001b[31m3.9 MB/s\u001b[0m eta \u001b[36m0:00:00\u001b[0m\n",
            "\u001b[?25hCollecting requests-cache>=0.8.0 (from fastf1)\n",
            "  Downloading requests_cache-1.0.1-py3-none-any.whl (58 kB)\n",
            "\u001b[2K     \u001b[90m━━━━━━━━━━━━━━━━━━━━━━━━━━━━━━━━━━━━━━━━\u001b[0m \u001b[32m58.7/58.7 kB\u001b[0m \u001b[31m6.9 MB/s\u001b[0m eta \u001b[36m0:00:00\u001b[0m\n",
            "\u001b[?25hRequirement already satisfied: pandas<3.0.0,>=1.2.4 in /usr/local/lib/python3.10/dist-packages (from fastf1) (1.5.3)\n",
            "Requirement already satisfied: numpy<2.0.0,>=1.20.3 in /usr/local/lib/python3.10/dist-packages (from fastf1) (1.22.4)\n",
            "Requirement already satisfied: scipy<2.0.0,>=1.6.3 in /usr/local/lib/python3.10/dist-packages (from fastf1) (1.10.1)\n",
            "Collecting thefuzz (from fastf1)\n",
            "  Downloading thefuzz-0.19.0-py2.py3-none-any.whl (17 kB)\n",
            "Requirement already satisfied: matplotlib<4.0.0,>=3.4.2 in /usr/local/lib/python3.10/dist-packages (from fastf1) (3.7.1)\n",
            "Requirement already satisfied: python-dateutil in /usr/local/lib/python3.10/dist-packages (from fastf1) (2.8.2)\n",
            "Collecting timple>=0.1.6 (from fastf1)\n",
            "  Downloading timple-0.1.6-py3-none-any.whl (17 kB)\n",
            "Collecting requests>=2.28.0 (from fastf1)\n",
            "  Downloading requests-2.31.0-py3-none-any.whl (62 kB)\n",
            "\u001b[2K     \u001b[90m━━━━━━━━━━━━━━━━━━━━━━━━━━━━━━━━━━━━━━━━\u001b[0m \u001b[32m62.6/62.6 kB\u001b[0m \u001b[31m7.3 MB/s\u001b[0m eta \u001b[36m0:00:00\u001b[0m\n",
            "\u001b[?25hCollecting websockets>=8.1 (from fastf1)\n",
            "  Downloading websockets-11.0.3-cp310-cp310-manylinux_2_5_x86_64.manylinux1_x86_64.manylinux_2_17_x86_64.manylinux2014_x86_64.whl (129 kB)\n",
            "\u001b[2K     \u001b[90m━━━━━━━━━━━━━━━━━━━━━━━━━━━━━━━━━━━━━━\u001b[0m \u001b[32m129.9/129.9 kB\u001b[0m \u001b[31m14.9 MB/s\u001b[0m eta \u001b[36m0:00:00\u001b[0m\n",
            "\u001b[?25hRequirement already satisfied: contourpy>=1.0.1 in /usr/local/lib/python3.10/dist-packages (from matplotlib<4.0.0,>=3.4.2->fastf1) (1.0.7)\n",
            "Requirement already satisfied: cycler>=0.10 in /usr/local/lib/python3.10/dist-packages (from matplotlib<4.0.0,>=3.4.2->fastf1) (0.11.0)\n",
            "Requirement already satisfied: fonttools>=4.22.0 in /usr/local/lib/python3.10/dist-packages (from matplotlib<4.0.0,>=3.4.2->fastf1) (4.39.3)\n",
            "Requirement already satisfied: kiwisolver>=1.0.1 in /usr/local/lib/python3.10/dist-packages (from matplotlib<4.0.0,>=3.4.2->fastf1) (1.4.4)\n",
            "Requirement already satisfied: packaging>=20.0 in /usr/local/lib/python3.10/dist-packages (from matplotlib<4.0.0,>=3.4.2->fastf1) (23.1)\n",
            "Requirement already satisfied: pillow>=6.2.0 in /usr/local/lib/python3.10/dist-packages (from matplotlib<4.0.0,>=3.4.2->fastf1) (8.4.0)\n",
            "Requirement already satisfied: pyparsing>=2.3.1 in /usr/local/lib/python3.10/dist-packages (from matplotlib<4.0.0,>=3.4.2->fastf1) (3.0.9)\n",
            "Requirement already satisfied: pytz>=2020.1 in /usr/local/lib/python3.10/dist-packages (from pandas<3.0.0,>=1.2.4->fastf1) (2022.7.1)\n",
            "Requirement already satisfied: six>=1.5 in /usr/local/lib/python3.10/dist-packages (from python-dateutil->fastf1) (1.16.0)\n",
            "Requirement already satisfied: charset-normalizer<4,>=2 in /usr/local/lib/python3.10/dist-packages (from requests>=2.28.0->fastf1) (2.0.12)\n",
            "Requirement already satisfied: idna<4,>=2.5 in /usr/local/lib/python3.10/dist-packages (from requests>=2.28.0->fastf1) (3.4)\n",
            "Requirement already satisfied: urllib3<3,>=1.21.1 in /usr/local/lib/python3.10/dist-packages (from requests>=2.28.0->fastf1) (1.26.15)\n",
            "Requirement already satisfied: certifi>=2017.4.17 in /usr/local/lib/python3.10/dist-packages (from requests>=2.28.0->fastf1) (2022.12.7)\n",
            "Requirement already satisfied: attrs>=21.2 in /usr/local/lib/python3.10/dist-packages (from requests-cache>=0.8.0->fastf1) (23.1.0)\n",
            "Collecting cattrs>=22.2 (from requests-cache>=0.8.0->fastf1)\n",
            "  Downloading cattrs-23.1.2-py3-none-any.whl (50 kB)\n",
            "\u001b[2K     \u001b[90m━━━━━━━━━━━━━━━━━━━━━━━━━━━━━━━━━━━━━━━━\u001b[0m \u001b[32m50.8/50.8 kB\u001b[0m \u001b[31m6.0 MB/s\u001b[0m eta \u001b[36m0:00:00\u001b[0m\n",
            "\u001b[?25hRequirement already satisfied: platformdirs>=2.5 in /usr/local/lib/python3.10/dist-packages (from requests-cache>=0.8.0->fastf1) (3.3.0)\n",
            "Collecting url-normalize>=1.4 (from requests-cache>=0.8.0->fastf1)\n",
            "  Downloading url_normalize-1.4.3-py2.py3-none-any.whl (6.8 kB)\n",
            "Requirement already satisfied: exceptiongroup in /usr/local/lib/python3.10/dist-packages (from cattrs>=22.2->requests-cache>=0.8.0->fastf1) (1.1.1)\n",
            "Requirement already satisfied: typing_extensions>=4.1.0 in /usr/local/lib/python3.10/dist-packages (from cattrs>=22.2->requests-cache>=0.8.0->fastf1) (4.5.0)\n",
            "Installing collected packages: thefuzz, websockets, url-normalize, requests, cattrs, requests-cache, timple, fastf1\n",
            "  Attempting uninstall: requests\n",
            "    Found existing installation: requests 2.27.1\n",
            "    Uninstalling requests-2.27.1:\n",
            "      Successfully uninstalled requests-2.27.1\n",
            "\u001b[31mERROR: pip's dependency resolver does not currently take into account all the packages that are installed. This behaviour is the source of the following dependency conflicts.\n",
            "google-colab 1.0.0 requires requests==2.27.1, but you have requests 2.31.0 which is incompatible.\u001b[0m\u001b[31m\n",
            "\u001b[0mSuccessfully installed cattrs-23.1.2 fastf1-3.0.4 requests-2.31.0 requests-cache-1.0.1 thefuzz-0.19.0 timple-0.1.6 url-normalize-1.4.3 websockets-11.0.3\n"
          ]
        }
      ]
    },
    {
      "cell_type": "markdown",
      "source": [
        "# Deel 2: Definities - kennen! \n",
        "\n",
        "De volgende woorden, of definities moet je kennen na en tijdens deze les:\n",
        "\n",
        "1. parentheses = (  )\n",
        "2. brackets = [ ]\n",
        "3. Curly braces = {  }\n",
        "4. Single quotes = ' '\n",
        "5. Double quotes = \" \"\n",
        "\n",
        "Zoals je zo kunt zien, zijn ze erg belangrijk in python\n"
      ],
      "metadata": {
        "id": "R2pInPtSunR2"
      }
    },
    {
      "cell_type": "markdown",
      "source": [
        "# Deel 3: Variabelen\n",
        "Bij het programmeren maken we veel gebruik van “Variables” dit zijn naampjes die iets vasthouden. Per taal zijn er verschillende typen variables genaamd datatypes. In python hebben de volgende standaard datatypes:\n",
        "- Int/Integer (nummers)\n",
        "- String (tekst)\n",
        "- Float (komma getallen)\n",
        "- List ( een soort lijstje )\n",
        "- Tuple ( een ander soort lijstje )\n",
        "- Dictionary ( weer een ander soort lijstje )"
      ],
      "metadata": {
        "id": "X75ZFpGk10EX"
      }
    },
    {
      "cell_type": "markdown",
      "source": [
        "### Deel 3 a: Int, String en Float"
      ],
      "metadata": {
        "id": "lX4IEvH-65Cw"
      }
    },
    {
      "cell_type": "code",
      "source": [
        "year = 2022 # dit is een int\n",
        "wknd = 11 # dit ook\n",
        "ses = 'R' # dit is een string\n",
        "driver = 'VER'\n",
        "colormap = mpl.cm.plasma # en dit is een functie"
      ],
      "metadata": {
        "id": "joqZ8G6Os_kL"
      },
      "execution_count": 3,
      "outputs": []
    },
    {
      "cell_type": "code",
      "source": [
        "# Met int kun je rekenen: \n",
        "\n",
        "year = year+10\n",
        "wknd = wknd+1\n",
        "wknd-1\n",
        "\n",
        "\n",
        "print(year)\n",
        "print(f\"weekend: {wknd}\")\n",
        "print(f\" een float heeft cijfers achter de komma: {wknd/year}\")\n",
        "print (f\"Een int niet: {int(wknd/year)}\")\n",
        "\n",
        "\n"
      ],
      "metadata": {
        "colab": {
          "base_uri": "https://localhost:8080/"
        },
        "id": "f_pEN85S67sL",
        "outputId": "42c8f83b-dbd5-4eeb-a813-964a107cc08f"
      },
      "execution_count": 4,
      "outputs": [
        {
          "output_type": "stream",
          "name": "stdout",
          "text": [
            "2032\n",
            "weekend: 12\n",
            " een float heeft cijfers achter de komma: 0.005905511811023622\n",
            "Een int niet: 0\n"
          ]
        }
      ]
    },
    {
      "cell_type": "code",
      "source": [
        "# Weer even terugzetten op juiste jaar en weekend voor vervolg:\n",
        "year = 2022 # dit is een int\n",
        "wknd = 11 # dit ook"
      ],
      "metadata": {
        "id": "mfSqvRKA-P-V"
      },
      "execution_count": 5,
      "outputs": []
    },
    {
      "cell_type": "code",
      "source": [
        "# Met strings kun je niet rekenen: \n",
        "driver = driver+1"
      ],
      "metadata": {
        "colab": {
          "base_uri": "https://localhost:8080/",
          "height": 187
        },
        "id": "CxYASaUU7fEt",
        "outputId": "0614a19a-0f0f-452b-8029-aa87c0923d3f"
      },
      "execution_count": 19,
      "outputs": [
        {
          "output_type": "error",
          "ename": "TypeError",
          "evalue": "ignored",
          "traceback": [
            "\u001b[0;31m---------------------------------------------------------------------------\u001b[0m",
            "\u001b[0;31mTypeError\u001b[0m                                 Traceback (most recent call last)",
            "\u001b[0;32m<ipython-input-19-6850e9990f43>\u001b[0m in \u001b[0;36m<cell line: 2>\u001b[0;34m()\u001b[0m\n\u001b[1;32m      1\u001b[0m \u001b[0;31m# Met strings kun je niet rekenen:\u001b[0m\u001b[0;34m\u001b[0m\u001b[0;34m\u001b[0m\u001b[0m\n\u001b[0;32m----> 2\u001b[0;31m \u001b[0mdriver\u001b[0m \u001b[0;34m=\u001b[0m \u001b[0mdriver\u001b[0m\u001b[0;34m+\u001b[0m\u001b[0;36m1\u001b[0m\u001b[0;34m\u001b[0m\u001b[0;34m\u001b[0m\u001b[0m\n\u001b[0m",
            "\u001b[0;31mTypeError\u001b[0m: can only concatenate str (not \"int\") to str"
          ]
        }
      ]
    },
    {
      "cell_type": "code",
      "source": [
        "# Of toch een beetje ;-)\n",
        "coureur = 'VER'\n",
        "coureur = coureur+coureur\n",
        "print(coureur)\n",
        "coureur= coureur*2\n",
        "print(coureur)"
      ],
      "metadata": {
        "colab": {
          "base_uri": "https://localhost:8080/"
        },
        "id": "lPhcQQL88I0N",
        "outputId": "c7eadd00-380a-44b8-c38b-2c2540c2624f"
      },
      "execution_count": 20,
      "outputs": [
        {
          "output_type": "stream",
          "name": "stdout",
          "text": [
            "VERVER\n",
            "VERVERVERVER\n"
          ]
        }
      ]
    },
    {
      "cell_type": "code",
      "source": [
        "session = ff1.get_session(year, wknd, ses)\n",
        "weekend = session.event\n",
        "session.load()\n",
        "lap = session.laps.pick_driver(driver).pick_fastest()\n",
        "\n",
        "# Get telemetry data\n",
        "x = lap.telemetry['X']              # values for x-axis\n",
        "y = lap.telemetry['Y']              # values for y-axis\n",
        "color = lap.telemetry['Speed']      # value to base color gradient on"
      ],
      "metadata": {
        "colab": {
          "base_uri": "https://localhost:8080/"
        },
        "id": "OgrZioYdtPWB",
        "outputId": "0c01f30c-61ed-4d60-a2cb-bba3ab1c71e2"
      },
      "execution_count": 21,
      "outputs": [
        {
          "output_type": "stream",
          "name": "stderr",
          "text": [
            "req         WARNING \t\n",
            "\n",
            "DEFAULT CACHE ENABLED!\n",
            "\tCache directory: /root/.cache/fastf1.\n",
            "\tSize: 24.0 KB\n",
            "WARNING:fastf1.fastf1.req:\n",
            "\n",
            "DEFAULT CACHE ENABLED!\n",
            "\tCache directory: /root/.cache/fastf1.\n",
            "\tSize: 24.0 KB\n",
            "core           INFO \tLoading data for Austrian Grand Prix - Race [v3.0.4]\n",
            "INFO:fastf1.fastf1.core:Loading data for Austrian Grand Prix - Race [v3.0.4]\n",
            "req            INFO \tNo cached data found for driver_info. Loading data...\n",
            "INFO:fastf1.fastf1.req:No cached data found for driver_info. Loading data...\n",
            "_api           INFO \tFetching driver list...\n",
            "INFO:fastf1.api:Fetching driver list...\n",
            "req            INFO \tData has been written to cache!\n",
            "INFO:fastf1.fastf1.req:Data has been written to cache!\n",
            "req            INFO \tNo cached data found for session_status_data. Loading data...\n",
            "INFO:fastf1.fastf1.req:No cached data found for session_status_data. Loading data...\n",
            "_api           INFO \tFetching session status data...\n",
            "INFO:fastf1.api:Fetching session status data...\n",
            "req            INFO \tData has been written to cache!\n",
            "INFO:fastf1.fastf1.req:Data has been written to cache!\n",
            "req            INFO \tNo cached data found for lap_count. Loading data...\n",
            "INFO:fastf1.fastf1.req:No cached data found for lap_count. Loading data...\n",
            "_api           INFO \tFetching lap count data...\n",
            "INFO:fastf1.api:Fetching lap count data...\n",
            "req            INFO \tData has been written to cache!\n",
            "INFO:fastf1.fastf1.req:Data has been written to cache!\n",
            "req            INFO \tNo cached data found for track_status_data. Loading data...\n",
            "INFO:fastf1.fastf1.req:No cached data found for track_status_data. Loading data...\n",
            "_api           INFO \tFetching track status data...\n",
            "INFO:fastf1.api:Fetching track status data...\n",
            "req            INFO \tData has been written to cache!\n",
            "INFO:fastf1.fastf1.req:Data has been written to cache!\n",
            "req            INFO \tNo cached data found for timing_data. Loading data...\n",
            "INFO:fastf1.fastf1.req:No cached data found for timing_data. Loading data...\n",
            "_api           INFO \tFetching timing data...\n",
            "INFO:fastf1.api:Fetching timing data...\n",
            "_api           INFO \tParsing timing data...\n",
            "INFO:fastf1.api:Parsing timing data...\n",
            "req            INFO \tData has been written to cache!\n",
            "INFO:fastf1.fastf1.req:Data has been written to cache!\n",
            "req            INFO \tNo cached data found for timing_app_data. Loading data...\n",
            "INFO:fastf1.fastf1.req:No cached data found for timing_app_data. Loading data...\n",
            "_api           INFO \tFetching timing app data...\n",
            "INFO:fastf1.api:Fetching timing app data...\n",
            "req            INFO \tData has been written to cache!\n",
            "INFO:fastf1.fastf1.req:Data has been written to cache!\n",
            "core           INFO \tProcessing timing data...\n",
            "INFO:fastf1.fastf1.core:Processing timing data...\n",
            "req            INFO \tNo cached data found for car_data. Loading data...\n",
            "INFO:fastf1.fastf1.req:No cached data found for car_data. Loading data...\n",
            "_api           INFO \tFetching car data...\n",
            "INFO:fastf1.api:Fetching car data...\n",
            "_api           INFO \tParsing car data...\n",
            "INFO:fastf1.api:Parsing car data...\n",
            "req            INFO \tData has been written to cache!\n",
            "INFO:fastf1.fastf1.req:Data has been written to cache!\n",
            "req            INFO \tNo cached data found for position_data. Loading data...\n",
            "INFO:fastf1.fastf1.req:No cached data found for position_data. Loading data...\n",
            "_api           INFO \tFetching position data...\n",
            "INFO:fastf1.api:Fetching position data...\n",
            "_api           INFO \tParsing position data...\n",
            "INFO:fastf1.api:Parsing position data...\n",
            "req            INFO \tData has been written to cache!\n",
            "INFO:fastf1.fastf1.req:Data has been written to cache!\n",
            "req            INFO \tNo cached data found for weather_data. Loading data...\n",
            "INFO:fastf1.fastf1.req:No cached data found for weather_data. Loading data...\n",
            "_api           INFO \tFetching weather data...\n",
            "INFO:fastf1.api:Fetching weather data...\n",
            "req            INFO \tData has been written to cache!\n",
            "INFO:fastf1.fastf1.req:Data has been written to cache!\n",
            "req            INFO \tNo cached data found for race_control_messages. Loading data...\n",
            "INFO:fastf1.fastf1.req:No cached data found for race_control_messages. Loading data...\n",
            "_api           INFO \tFetching race control messages...\n",
            "INFO:fastf1.api:Fetching race control messages...\n",
            "req            INFO \tData has been written to cache!\n",
            "INFO:fastf1.fastf1.req:Data has been written to cache!\n",
            "core           INFO \tFinished loading data for 20 drivers: ['16', '1', '44', '63', '31', '47', '4', '20', '3', '14', '77', '23', '18', '24', '10', '22', '5', '55', '6', '11']\n",
            "INFO:fastf1.fastf1.core:Finished loading data for 20 drivers: ['16', '1', '44', '63', '31', '47', '4', '20', '3', '14', '77', '23', '18', '24', '10', '22', '5', '55', '6', '11']\n"
          ]
        }
      ]
    },
    {
      "cell_type": "code",
      "source": [
        "points = np.array([x, y]).T.reshape(-1, 1, 2)\n",
        "segments = np.concatenate([points[:-1], points[1:]], axis=1)"
      ],
      "metadata": {
        "id": "cCffCurr9u9u"
      },
      "execution_count": 22,
      "outputs": []
    },
    {
      "cell_type": "code",
      "source": [
        "# We create a plot with title and adjust some setting to make it look good.\n",
        "fig, ax = plt.subplots(sharex=True, sharey=True, figsize=(12, 6.75))\n",
        "fig.suptitle(f'{weekend.name} {year} - {driver} - Speed', size=24, y=0.97)\n",
        "\n",
        "# Adjust margins and turn of axis\n",
        "plt.subplots_adjust(left=0.1, right=0.9, top=0.9, bottom=0.12)\n",
        "ax.axis('off')\n",
        "\n",
        "# After this, we plot the data itself.\n",
        "# Create background track line\n",
        "ax.plot(lap.telemetry['X'], lap.telemetry['Y'], color='black', linestyle='-', linewidth=16, zorder=0)\n",
        "\n",
        "# Create a continuous norm to map from data points to colors\n",
        "norm = plt.Normalize(color.min(), color.max())\n",
        "lc = LineCollection(segments, cmap=colormap, norm=norm, linestyle='-', linewidth=5)\n",
        "\n",
        "# Set the values used for colormapping\n",
        "lc.set_array(color)\n",
        "\n",
        "# Merge all line segments together\n",
        "line = ax.add_collection(lc)\n",
        "\n",
        "# Finally, we create a color bar as a legend.\n",
        "cbaxes = fig.add_axes([0.25, 0.05, 0.5, 0.05])\n",
        "normlegend = mpl.colors.Normalize(vmin=color.min(), vmax=color.max())\n",
        "legend = mpl.colorbar.ColorbarBase(cbaxes, norm=normlegend, cmap=colormap, orientation=\"horizontal\")\n",
        "\n",
        "# Show the plot\n",
        "plt.show()"
      ],
      "metadata": {
        "colab": {
          "base_uri": "https://localhost:8080/",
          "height": 681
        },
        "id": "ffUbTcDmuXPA",
        "outputId": "ac720699-9c1d-4492-ac92-71611ececc58"
      },
      "execution_count": 23,
      "outputs": [
        {
          "output_type": "display_data",
          "data": {
            "text/plain": [
              "<Figure size 1200x675 with 2 Axes>"
            ],
            "image/png": "[encoded data removed]"
          },
          "metadata": {}
        }
      ]
    },
    {
      "cell_type": "markdown",
      "source": [
        "### Wat oefeningen \n",
        "- Kun je een andere rijder selecteren voor de grafiek? Bijvoorbeeld Hamilton"
      ],
      "metadata": {
        "id": "lQtAQLVK8ict"
      }
    },
    {
      "cell_type": "code",
      "source": [
        "driver = 'HAM'"
      ],
      "metadata": {
        "id": "QISaCNnsudNK"
      },
      "execution_count": null,
      "outputs": []
    },
    {
      "cell_type": "code",
      "source": [
        "print(lap)"
      ],
      "metadata": {
        "colab": {
          "base_uri": "https://localhost:8080/"
        },
        "id": "jgXdcPBR9CrH",
        "outputId": "c7d56a56-f18d-46bb-9ee1-352f60779b55"
      },
      "execution_count": 24,
      "outputs": [
        {
          "output_type": "stream",
          "name": "stdout",
          "text": [
            "Time                      0 days 02:16:23.223000\n",
            "Driver                                       VER\n",
            "DriverNumber                                   1\n",
            "LapTime                   0 days 00:01:07.275000\n",
            "LapNumber                                   62.0\n",
            "Stint                                        4.0\n",
            "PitOutTime                                   NaT\n",
            "PitInTime                                    NaT\n",
            "Sector1Time               0 days 00:00:17.144000\n",
            "Sector2Time               0 days 00:00:29.866000\n",
            "Sector3Time               0 days 00:00:20.265000\n",
            "Sector1SessionTime        0 days 02:15:33.092000\n",
            "Sector2SessionTime        0 days 02:16:02.958000\n",
            "Sector3SessionTime        0 days 02:16:23.223000\n",
            "SpeedI1                                    305.0\n",
            "SpeedI2                                    234.0\n",
            "SpeedFL                                    276.0\n",
            "SpeedST                                    312.0\n",
            "IsPersonalBest                              True\n",
            "Compound                                  MEDIUM\n",
            "TyreLife                                    26.0\n",
            "FreshTyre                                  False\n",
            "Team                             Red Bull Racing\n",
            "LapStartTime              0 days 02:15:15.948000\n",
            "LapStartDate          2022-07-10 14:16:15.957000\n",
            "TrackStatus                                    1\n",
            "Position                                     2.0\n",
            "Deleted                                    False\n",
            "DeletedReason                                   \n",
            "FastF1Generated                            False\n",
            "IsAccurate                                  True\n",
            "Name: 61, dtype: object\n"
          ]
        }
      ]
    },
    {
      "cell_type": "code",
      "source": [
        "assert lap.Driver == 'HAM', 'De computer leest van boven naar beneden. Je geeft nu de variabele mee als lap al gezet is. Probeer de variabele te vinden en het op te lossen'"
      ],
      "metadata": {
        "id": "X8-EtGVa-2KC"
      },
      "execution_count": null,
      "outputs": []
    },
    {
      "cell_type": "markdown",
      "source": [
        "### We gaan nu rekenen met de rondetijden tussen 2 rondes en de snelheden\n",
        "SpeedST (float): Speedtrap on longest straight [km/h]\n",
        "SpeedI1 (float): Speedtrap sector 1 [km/h]\n",
        "SpeedI2 (float): Speedtrap sector 2 [km/h]\n",
        "SpeedFL (float): Speedtrap at finish line [km/h]\n",
        "SpeedST (float): Speedtrap on longest straight (Not sure) [km/h]\n",
        "\n",
        "LapTime (pandas.Timedelta): Recorded lap time. Officially deleted lap times will not be deleted here.\n",
        "\n",
        "Er zijn dus verschillende punten waar de snelheid gemeten wordt. De volgende code maakt voor twee ronden daarvan een aantal variabelen, waar je mee kan rekenen. "
      ],
      "metadata": {
        "id": "5l6YTNav-pEm"
      }
    },
    {
      "cell_type": "code",
      "source": [
        "ronde_nummer = 2 # Dit is een string, te zien omdat er geen \"\" zijn\n",
        "# Hier halen we de rondetijden en data op \n",
        "## eerst de tijden voor twee rondes. \n",
        "gegevens_ronde = session.laps.pick_driver(driver).pick_lap(ronde_nummer)\n",
        "gegevens_ronde_erna = session.laps.pick_driver(driver).pick_lap(ronde_nummer+1) # je kunt dus hier ook nog rekeken\n",
        "\n",
        "# hier maken we twee lijsten:\n",
        "te_berekenen_rondes = ['gegevens_ronde', 'gegevens_ronde_erna']\n",
        "verschillende_meetpunten = ['ST', 'I1','I2','FL']\n",
        "\n",
        "for ronde in te_berekenen_rondes:\n",
        "    for meetpunt in verschillende_meetpunten:\n",
        "        item = ronde + \"_\" + meetpunt\n",
        "        exec(f\"{item} = float({ronde}['Speed{meetpunt}'])\")\n",
        "        print((item))  # Use eval() to retrieve the value\n"
      ],
      "metadata": {
        "colab": {
          "base_uri": "https://localhost:8080/"
        },
        "id": "BEjfcHAIBq1t",
        "outputId": "5ec2af66-cf55-44bd-be1a-be10707aa23b"
      },
      "execution_count": 26,
      "outputs": [
        {
          "output_type": "stream",
          "name": "stdout",
          "text": [
            "gegevens_ronde_ST\n",
            "gegevens_ronde_I1\n",
            "gegevens_ronde_I2\n",
            "gegevens_ronde_FL\n",
            "gegevens_ronde_erna_ST\n",
            "gegevens_ronde_erna_I1\n",
            "gegevens_ronde_erna_I2\n",
            "gegevens_ronde_erna_FL\n"
          ]
        }
      ]
    },
    {
      "cell_type": "markdown",
      "source": [
        "### Verschil in snelheid\n",
        "\n",
        "Kun je het verschil in snelheid op de verschillende meetpunten berekenen en in een nieuwe variabele zetten? \n",
        "Kun je die optellen en een gemiddelde uitrekenen? "
      ],
      "metadata": {
        "id": "O3XlUxWnIfTT"
      }
    },
    {
      "cell_type": "code",
      "source": [
        "# Je code hier: \n",
        "verschil_ST = 0\n",
        "verschil_I1 = 0\n",
        "verschil_I2 = 0\n",
        "verschil_FL = 0"
      ],
      "metadata": {
        "id": "tA053VSe9GW1"
      },
      "execution_count": 27,
      "outputs": []
    },
    {
      "cell_type": "code",
      "source": [
        "assert verschil_FL > 0, \" Maak een berekening tussen twee variabelen op de plek van de nul\" "
      ],
      "metadata": {
        "colab": {
          "base_uri": "https://localhost:8080/",
          "height": 169
        },
        "id": "QH0euDwCBfuR",
        "outputId": "98fcca2b-4b84-4040-d21c-e842be1743e9"
      },
      "execution_count": 28,
      "outputs": [
        {
          "output_type": "error",
          "ename": "AssertionError",
          "evalue": "ignored",
          "traceback": [
            "\u001b[0;31m---------------------------------------------------------------------------\u001b[0m",
            "\u001b[0;31mAssertionError\u001b[0m                            Traceback (most recent call last)",
            "\u001b[0;32m<ipython-input-28-057953a01782>\u001b[0m in \u001b[0;36m<cell line: 1>\u001b[0;34m()\u001b[0m\n\u001b[0;32m----> 1\u001b[0;31m \u001b[0;32massert\u001b[0m \u001b[0mverschil_FL\u001b[0m \u001b[0;34m>\u001b[0m \u001b[0;36m0\u001b[0m\u001b[0;34m,\u001b[0m \u001b[0;34m\" Maak een berekening tussen twee variabelen op de plek van de nul\"\u001b[0m\u001b[0;34m\u001b[0m\u001b[0;34m\u001b[0m\u001b[0m\n\u001b[0m",
            "\u001b[0;31mAssertionError\u001b[0m:  Maak een berekening tussen twee variabelen op de plek van de nul"
          ]
        }
      ]
    },
    {
      "cell_type": "code",
      "source": [
        "# Hier je gemiddelde\n",
        "gemiddelde = (4)/4\n",
        "assert gemiddelde >1, \"Vul op de plek van de eerste vier de som in van de variabelen\"\n",
        "print(f\"Gemiddelde verschil tussen de vier punten: :{gemiddelde}\")"
      ],
      "metadata": {
        "colab": {
          "base_uri": "https://localhost:8080/",
          "height": 222
        },
        "id": "oiICtzJVKDXw",
        "outputId": "a604b126-1cfc-4aef-d4a8-47aae28c005b"
      },
      "execution_count": 29,
      "outputs": [
        {
          "output_type": "error",
          "ename": "AssertionError",
          "evalue": "ignored",
          "traceback": [
            "\u001b[0;31m---------------------------------------------------------------------------\u001b[0m",
            "\u001b[0;31mAssertionError\u001b[0m                            Traceback (most recent call last)",
            "\u001b[0;32m<ipython-input-29-eea1785c92a5>\u001b[0m in \u001b[0;36m<cell line: 3>\u001b[0;34m()\u001b[0m\n\u001b[1;32m      1\u001b[0m \u001b[0;31m# Hier je gemiddelde\u001b[0m\u001b[0;34m\u001b[0m\u001b[0;34m\u001b[0m\u001b[0m\n\u001b[1;32m      2\u001b[0m \u001b[0mgemiddelde\u001b[0m \u001b[0;34m=\u001b[0m \u001b[0;34m(\u001b[0m\u001b[0;36m4\u001b[0m\u001b[0;34m)\u001b[0m\u001b[0;34m/\u001b[0m\u001b[0;36m4\u001b[0m\u001b[0;34m\u001b[0m\u001b[0;34m\u001b[0m\u001b[0m\n\u001b[0;32m----> 3\u001b[0;31m \u001b[0;32massert\u001b[0m \u001b[0mgemiddelde\u001b[0m \u001b[0;34m>\u001b[0m\u001b[0;36m1\u001b[0m\u001b[0;34m,\u001b[0m \u001b[0;34m\"Vul op de plek van de eerste vier de som in van de variabelen\"\u001b[0m\u001b[0;34m\u001b[0m\u001b[0;34m\u001b[0m\u001b[0m\n\u001b[0m\u001b[1;32m      4\u001b[0m \u001b[0mprint\u001b[0m\u001b[0;34m(\u001b[0m\u001b[0;34mf\"Gemiddelde verschil tussen de vier punten: :{gemiddelde}\"\u001b[0m\u001b[0;34m)\u001b[0m\u001b[0;34m\u001b[0m\u001b[0;34m\u001b[0m\u001b[0m\n",
            "\u001b[0;31mAssertionError\u001b[0m: Vul op de plek van de eerste vier de som in van de variabelen"
          ]
        }
      ]
    },
    {
      "cell_type": "code",
      "source": [
        "tijd_ronde = gegevens_ronde.iloc[0]['LapTime']\n",
        "tijd_ronde_erna = gegevens_ronde_erna.iloc[0]['LapTime']\n",
        "\n",
        "print(f\"De rondetijd van de eerste ronde: {tijd_ronde}\")\n",
        "print(f\"De rondetijd van de ronde erna  : {tijd_ronde_erna}\")\n"
      ],
      "metadata": {
        "colab": {
          "base_uri": "https://localhost:8080/"
        },
        "id": "juJbkkCKKSm6",
        "outputId": "923141c6-3030-4aca-a914-2b97a93711a3"
      },
      "execution_count": 30,
      "outputs": [
        {
          "output_type": "stream",
          "name": "stdout",
          "text": [
            "De rondetijd van de eerste ronde: 0 days 00:01:10.373000\n",
            "De rondetijd van de ronde erna  : 0 days 00:01:10.165000\n"
          ]
        }
      ]
    },
    {
      "cell_type": "code",
      "source": [
        "## Kun je het vershil tussen de rondetijden berekenen? Een datum/tijd is een getal dat anders wordt weergegeven. Je berekening mag op de plek van de 0\n",
        "verschil_in_rondetijden = 0"
      ],
      "metadata": {
        "id": "RDNJlxgA2bv4"
      },
      "execution_count": 31,
      "outputs": []
    },
    {
      "cell_type": "code",
      "source": [
        "assert verschil_in_rondetijden >0, \"Bereken een verschil\""
      ],
      "metadata": {
        "colab": {
          "base_uri": "https://localhost:8080/",
          "height": 169
        },
        "id": "FuVjJjTb2k4V",
        "outputId": "ddf0c6f8-2f78-4730-b783-70475d0bb633"
      },
      "execution_count": 32,
      "outputs": [
        {
          "output_type": "error",
          "ename": "AssertionError",
          "evalue": "ignored",
          "traceback": [
            "\u001b[0;31m---------------------------------------------------------------------------\u001b[0m",
            "\u001b[0;31mAssertionError\u001b[0m                            Traceback (most recent call last)",
            "\u001b[0;32m<ipython-input-32-4520d8c37dd1>\u001b[0m in \u001b[0;36m<cell line: 1>\u001b[0;34m()\u001b[0m\n\u001b[0;32m----> 1\u001b[0;31m \u001b[0;32massert\u001b[0m \u001b[0mverschil_in_rondetijden\u001b[0m \u001b[0;34m>\u001b[0m\u001b[0;36m0\u001b[0m\u001b[0;34m,\u001b[0m \u001b[0;34m\"Bereken een verschil\"\u001b[0m\u001b[0;34m\u001b[0m\u001b[0;34m\u001b[0m\u001b[0m\n\u001b[0m",
            "\u001b[0;31mAssertionError\u001b[0m: Bereken een verschil"
          ]
        }
      ]
    },
    {
      "cell_type": "code",
      "source": [
        "# Het verschil in rondetijden tussen MAX en HAM is \n",
        "ronde1_MAX = 70.373 #60 sec + 10.373 sec.   00:01:10.373000 #  De rondetijd van de eerste ronde \n",
        "ronde1_HAM = 72.174 # 00:01:12.174000 # De rondetijd van de eerste ronde \n",
        "\n",
        "# Kun je het verschil in rondetijden als float weergeven? \n",
        "verschil_ronde1_MAX_HAM = ronde1_HAM - 0\n",
        "\n",
        "#Als het verschil tussen hen beiden 5 seconden bedraagt, hoe groot is het verschil na 5 ronden? \n",
        "verschil_HAM_MAX_ronde6=5\n",
        "\n",
        "assert verschil_ronde1_MAX_HAM < ronde1_MAX, \"Heb je het verschil berekend? \"\n",
        "assert verschil_HAM_MAX_ronde6 > 5, \"Vul de formule aan\""
      ],
      "metadata": {
        "colab": {
          "base_uri": "https://localhost:8080/",
          "height": 222
        },
        "id": "mJ3x4JOYUFqm",
        "outputId": "7bf493ac-2afa-4f08-e0e6-a07e2919b0ed"
      },
      "execution_count": 33,
      "outputs": [
        {
          "output_type": "error",
          "ename": "AssertionError",
          "evalue": "ignored",
          "traceback": [
            "\u001b[0;31m---------------------------------------------------------------------------\u001b[0m",
            "\u001b[0;31mAssertionError\u001b[0m                            Traceback (most recent call last)",
            "\u001b[0;32m<ipython-input-33-098cd4684cd0>\u001b[0m in \u001b[0;36m<cell line: 11>\u001b[0;34m()\u001b[0m\n\u001b[1;32m      9\u001b[0m \u001b[0mverschil_HAM_MAX_ronde6\u001b[0m\u001b[0;34m=\u001b[0m\u001b[0;36m5\u001b[0m\u001b[0;34m\u001b[0m\u001b[0;34m\u001b[0m\u001b[0m\n\u001b[1;32m     10\u001b[0m \u001b[0;34m\u001b[0m\u001b[0m\n\u001b[0;32m---> 11\u001b[0;31m \u001b[0;32massert\u001b[0m \u001b[0mverschil_ronde1_MAX_HAM\u001b[0m \u001b[0;34m<\u001b[0m \u001b[0mronde1_MAX\u001b[0m\u001b[0;34m,\u001b[0m \u001b[0;34m\"Heb je het verschil berekend? \"\u001b[0m\u001b[0;34m\u001b[0m\u001b[0;34m\u001b[0m\u001b[0m\n\u001b[0m\u001b[1;32m     12\u001b[0m \u001b[0;32massert\u001b[0m \u001b[0mverschil_HAM_MAX_ronde6\u001b[0m \u001b[0;34m>\u001b[0m \u001b[0;36m5\u001b[0m\u001b[0;34m,\u001b[0m \u001b[0;34m\"Vul de formule aan\"\u001b[0m\u001b[0;34m\u001b[0m\u001b[0;34m\u001b[0m\u001b[0m\n",
            "\u001b[0;31mAssertionError\u001b[0m: Heb je het verschil berekend? "
          ]
        }
      ]
    },
    {
      "cell_type": "code",
      "source": [
        "# Wat is het gemiddelde van de rondetijden van HAM en VER? \n",
        "gemiddelde_MAX_HAM_ronde1 = 0\n",
        "assert gemiddelde_MAX_HAM_ronde1 >0, \"heb je het gemiddelde?  \""
      ],
      "metadata": {
        "colab": {
          "base_uri": "https://localhost:8080/",
          "height": 204
        },
        "id": "VJCk_ELaY4y5",
        "outputId": "2cb86453-dbf6-4a6d-9de0-0fa94f7bae2d"
      },
      "execution_count": 34,
      "outputs": [
        {
          "output_type": "error",
          "ename": "AssertionError",
          "evalue": "ignored",
          "traceback": [
            "\u001b[0;31m---------------------------------------------------------------------------\u001b[0m",
            "\u001b[0;31mAssertionError\u001b[0m                            Traceback (most recent call last)",
            "\u001b[0;32m<ipython-input-34-04f623d3d323>\u001b[0m in \u001b[0;36m<cell line: 3>\u001b[0;34m()\u001b[0m\n\u001b[1;32m      1\u001b[0m \u001b[0;31m# Wat is het gemiddelde van de rondetijden van HAM en VER?\u001b[0m\u001b[0;34m\u001b[0m\u001b[0;34m\u001b[0m\u001b[0m\n\u001b[1;32m      2\u001b[0m \u001b[0mgemiddelde_MAX_HAM_ronde1\u001b[0m \u001b[0;34m=\u001b[0m \u001b[0;36m0\u001b[0m\u001b[0;34m\u001b[0m\u001b[0;34m\u001b[0m\u001b[0m\n\u001b[0;32m----> 3\u001b[0;31m \u001b[0;32massert\u001b[0m \u001b[0mgemiddelde_MAX_HAM_ronde1\u001b[0m \u001b[0;34m>\u001b[0m\u001b[0;36m0\u001b[0m\u001b[0;34m,\u001b[0m \u001b[0;34m\"heb je het gemiddelde?  \"\u001b[0m\u001b[0;34m\u001b[0m\u001b[0;34m\u001b[0m\u001b[0m\n\u001b[0m",
            "\u001b[0;31mAssertionError\u001b[0m: heb je het gemiddelde?  "
          ]
        }
      ]
    },
    {
      "cell_type": "code",
      "source": [
        "# Tyrelife is hoeveel rondes de band al gebruikt is. \n",
        "#Voor nu is dat de variabele:\n",
        "Tyrelife_van_de_ronde = gegevens_ronde.iloc[0]['TyreLife']"
      ],
      "metadata": {
        "id": "7bW-XjkbLPur"
      },
      "execution_count": 35,
      "outputs": []
    },
    {
      "cell_type": "code",
      "source": [
        "## als je uitgaat van 20 ronden op een band, hoeveel ronden kan hij nog op deze band? Vul weer in op de plek van de 0\n",
        "\n",
        "Tyre_ronden_over = 0"
      ],
      "metadata": {
        "id": "UGKXlDtL0Vj0"
      },
      "execution_count": 36,
      "outputs": []
    },
    {
      "cell_type": "code",
      "source": [
        "assert Tyre_ronden_over > 0, \"Vul een berekening in op de plek van de 0\""
      ],
      "metadata": {
        "colab": {
          "base_uri": "https://localhost:8080/",
          "height": 169
        },
        "id": "p0Np6mM25Xb4",
        "outputId": "d5c614a1-e83e-4d72-cfb5-ee62ec5ad5c8"
      },
      "execution_count": 37,
      "outputs": [
        {
          "output_type": "error",
          "ename": "AssertionError",
          "evalue": "ignored",
          "traceback": [
            "\u001b[0;31m---------------------------------------------------------------------------\u001b[0m",
            "\u001b[0;31mAssertionError\u001b[0m                            Traceback (most recent call last)",
            "\u001b[0;32m<ipython-input-37-aa1e1f812393>\u001b[0m in \u001b[0;36m<cell line: 1>\u001b[0;34m()\u001b[0m\n\u001b[0;32m----> 1\u001b[0;31m \u001b[0;32massert\u001b[0m \u001b[0mTyre_ronden_over\u001b[0m \u001b[0;34m>\u001b[0m \u001b[0;36m0\u001b[0m\u001b[0;34m,\u001b[0m \u001b[0;34m\"Vul een berekening in op de plek van de 0\"\u001b[0m\u001b[0;34m\u001b[0m\u001b[0;34m\u001b[0m\u001b[0m\n\u001b[0m",
            "\u001b[0;31mAssertionError\u001b[0m: Vul een berekening in op de plek van de 0"
          ]
        }
      ]
    },
    {
      "cell_type": "code",
      "source": [
        "# Hij rijdt nu toch langer op deze band, ze denken ongeveer 5 ronden erbij. Hoe verwerk je dat in Tyre_ronden_over? \n"
      ],
      "metadata": {
        "id": "gqC9A96RZVtr"
      },
      "execution_count": 38,
      "outputs": []
    },
    {
      "cell_type": "code",
      "source": [
        "assert Tyre_ronden_over >5"
      ],
      "metadata": {
        "colab": {
          "base_uri": "https://localhost:8080/",
          "height": 169
        },
        "id": "E1ax9eRAZtEe",
        "outputId": "f4220c66-1123-4333-d735-83e089b08d07"
      },
      "execution_count": 39,
      "outputs": [
        {
          "output_type": "error",
          "ename": "AssertionError",
          "evalue": "ignored",
          "traceback": [
            "\u001b[0;31m---------------------------------------------------------------------------\u001b[0m",
            "\u001b[0;31mAssertionError\u001b[0m                            Traceback (most recent call last)",
            "\u001b[0;32m<ipython-input-39-279bbff07377>\u001b[0m in \u001b[0;36m<cell line: 1>\u001b[0;34m()\u001b[0m\n\u001b[0;32m----> 1\u001b[0;31m \u001b[0;32massert\u001b[0m \u001b[0mTyre_ronden_over\u001b[0m \u001b[0;34m>\u001b[0m\u001b[0;36m5\u001b[0m\u001b[0;34m\u001b[0m\u001b[0;34m\u001b[0m\u001b[0m\n\u001b[0m",
            "\u001b[0;31mAssertionError\u001b[0m: "
          ]
        }
      ]
    },
    {
      "cell_type": "markdown",
      "source": [
        "### Nog een paar rekensommen"
      ],
      "metadata": {
        "id": "w_tO5u0hdeEp"
      }
    },
    {
      "cell_type": "code",
      "source": [
        "# Kun je deze twee werkend maken? \n",
        "\n",
        "5*\"2\" # 5 keer 2\n",
        "print(3*A) # 3 A's achter elkaar\n",
        "\n"
      ],
      "metadata": {
        "colab": {
          "base_uri": "https://localhost:8080/",
          "height": 222
        },
        "id": "57uOhQRA5pxg",
        "outputId": "b090ee82-5d8e-4b8f-9bd5-c0c2eefd9dd7"
      },
      "execution_count": 40,
      "outputs": [
        {
          "output_type": "error",
          "ename": "NameError",
          "evalue": "ignored",
          "traceback": [
            "\u001b[0;31m---------------------------------------------------------------------------\u001b[0m",
            "\u001b[0;31mNameError\u001b[0m                                 Traceback (most recent call last)",
            "\u001b[0;32m<ipython-input-40-fff8602be231>\u001b[0m in \u001b[0;36m<cell line: 4>\u001b[0;34m()\u001b[0m\n\u001b[1;32m      2\u001b[0m \u001b[0;34m\u001b[0m\u001b[0m\n\u001b[1;32m      3\u001b[0m \u001b[0;36m5\u001b[0m\u001b[0;34m*\u001b[0m\u001b[0;34m\"2\"\u001b[0m \u001b[0;31m# 5 keer 2\u001b[0m\u001b[0;34m\u001b[0m\u001b[0;34m\u001b[0m\u001b[0m\n\u001b[0;32m----> 4\u001b[0;31m \u001b[0mprint\u001b[0m\u001b[0;34m(\u001b[0m\u001b[0;36m3\u001b[0m\u001b[0;34m*\u001b[0m\u001b[0mA\u001b[0m\u001b[0;34m)\u001b[0m \u001b[0;31m# 3 A's achter elkaar\u001b[0m\u001b[0;34m\u001b[0m\u001b[0;34m\u001b[0m\u001b[0m\n\u001b[0m\u001b[1;32m      5\u001b[0m \u001b[0;34m\u001b[0m\u001b[0m\n",
            "\u001b[0;31mNameError\u001b[0m: name 'A' is not defined"
          ]
        }
      ]
    },
    {
      "cell_type": "markdown",
      "source": [
        "## Een andere manier van laten zien van de data (plotten)"
      ],
      "metadata": {
        "id": "Yt6xawup8jbh"
      }
    },
    {
      "cell_type": "code",
      "source": [
        "import matplotlib.pyplot as plt\n",
        "\n",
        "import fastf1.plotting\n",
        "\n",
        "\n",
        "# enable some matplotlib patches for plotting timedelta values and load\n",
        "# FastF1's default color scheme\n",
        "fastf1.plotting.setup_mpl(misc_mpl_mods=False)\n",
        "\n",
        "# load a session and its telemetry data\n",
        "#session = fastf1.get_session(2021, 'Spanish Grand Prix', 'Q')\n",
        "#session.load()"
      ],
      "metadata": {
        "id": "zN4pGOcfaclE"
      },
      "execution_count": 41,
      "outputs": []
    },
    {
      "cell_type": "code",
      "source": [],
      "metadata": {
        "id": "hTxk8UJvbcns"
      },
      "execution_count": 41,
      "outputs": []
    },
    {
      "cell_type": "code",
      "source": [
        "#session = ff1.get_session(year, wknd, ses)\n",
        "#session.load()\n",
        "\n",
        "\n",
        "ver_lap = session.laps.pick_driver('VER').pick_fastest()\n",
        "ham_lap = session.laps.pick_driver('HAM').pick_fastest()\n",
        "ver_tel = ver_lap.get_car_data().add_distance()\n",
        "ham_tel = ham_lap.get_car_data().add_distance()"
      ],
      "metadata": {
        "colab": {
          "base_uri": "https://localhost:8080/",
          "height": 240
        },
        "id": "6oNMYVwVaDUJ",
        "outputId": "5eaca601-d1da-4e9f-8853-6bd62f6736d0"
      },
      "execution_count": 1,
      "outputs": [
        {
          "output_type": "error",
          "ename": "NameError",
          "evalue": "ignored",
          "traceback": [
            "\u001b[0;31m---------------------------------------------------------------------------\u001b[0m",
            "\u001b[0;31mNameError\u001b[0m                                 Traceback (most recent call last)",
            "\u001b[0;32m<ipython-input-1-de29c48350fd>\u001b[0m in \u001b[0;36m<cell line: 5>\u001b[0;34m()\u001b[0m\n\u001b[1;32m      3\u001b[0m \u001b[0;34m\u001b[0m\u001b[0m\n\u001b[1;32m      4\u001b[0m \u001b[0;34m\u001b[0m\u001b[0m\n\u001b[0;32m----> 5\u001b[0;31m \u001b[0mver_lap\u001b[0m \u001b[0;34m=\u001b[0m \u001b[0msession\u001b[0m\u001b[0;34m.\u001b[0m\u001b[0mlaps\u001b[0m\u001b[0;34m.\u001b[0m\u001b[0mpick_driver\u001b[0m\u001b[0;34m(\u001b[0m\u001b[0;34m'VER'\u001b[0m\u001b[0;34m)\u001b[0m\u001b[0;34m.\u001b[0m\u001b[0mpick_fastest\u001b[0m\u001b[0;34m(\u001b[0m\u001b[0;34m)\u001b[0m\u001b[0;34m\u001b[0m\u001b[0;34m\u001b[0m\u001b[0m\n\u001b[0m\u001b[1;32m      6\u001b[0m \u001b[0mham_lap\u001b[0m \u001b[0;34m=\u001b[0m \u001b[0msession\u001b[0m\u001b[0;34m.\u001b[0m\u001b[0mlaps\u001b[0m\u001b[0;34m.\u001b[0m\u001b[0mpick_driver\u001b[0m\u001b[0;34m(\u001b[0m\u001b[0;34m'HAM'\u001b[0m\u001b[0;34m)\u001b[0m\u001b[0;34m.\u001b[0m\u001b[0mpick_fastest\u001b[0m\u001b[0;34m(\u001b[0m\u001b[0;34m)\u001b[0m\u001b[0;34m\u001b[0m\u001b[0;34m\u001b[0m\u001b[0m\n\u001b[1;32m      7\u001b[0m \u001b[0mver_tel\u001b[0m \u001b[0;34m=\u001b[0m \u001b[0mver_lap\u001b[0m\u001b[0;34m.\u001b[0m\u001b[0mget_car_data\u001b[0m\u001b[0;34m(\u001b[0m\u001b[0;34m)\u001b[0m\u001b[0;34m.\u001b[0m\u001b[0madd_distance\u001b[0m\u001b[0;34m(\u001b[0m\u001b[0;34m)\u001b[0m\u001b[0;34m\u001b[0m\u001b[0;34m\u001b[0m\u001b[0m\n",
            "\u001b[0;31mNameError\u001b[0m: name 'session' is not defined"
          ]
        }
      ]
    },
    {
      "cell_type": "code",
      "source": [
        "rbr_color = fastf1.plotting.team_color('RBR')\n",
        "mer_color = fastf1.plotting.team_color('MER')\n",
        "\n",
        "fig, ax = plt.subplots()\n",
        "ax.plot(ver_tel['Distance'], ver_tel['Speed'], color=rbr_color, label='VER')\n",
        "ax.plot(ham_tel['Distance'], ham_tel['Speed'], color=mer_color, label='HAM')\n",
        "\n",
        "ax.set_xlabel('Distance in m')\n",
        "ax.set_ylabel('Speed in km/h')\n",
        "\n",
        "ax.legend()\n",
        "plt.suptitle(f\"Fastest Lap Comparison \\n \"\n",
        "             f\"{session.event['EventName']} {session.event.year} {ses}\")\n",
        "\n",
        "plt.show()\n"
      ],
      "metadata": {
        "colab": {
          "base_uri": "https://localhost:8080/",
          "height": 497
        },
        "id": "ktF_uqh0ayWF",
        "outputId": "556db053-9726-4df2-adac-60bed5829a81"
      },
      "execution_count": 44,
      "outputs": [
        {
          "output_type": "display_data",
          "data": {
            "text/plain": [
              "<Figure size 640x480 with 1 Axes>"
            ],
            "image/png": "[encoded data removed]"
          },
          "metadata": {}
        }
      ]
    },
    {
      "cell_type": "code",
      "source": [],
      "metadata": {
        "id": "kpsUFvKndJj3"
      },
      "execution_count": null,
      "outputs": []
    },
    {
      "cell_type": "markdown",
      "source": [
        "## Herhaling Deel 3a: int, str, float\n",
        "We hebben drie variabelen besproken aan de hand van de case tot nu toe: \n",
        "- ```int``` zijn hele getallen en daarmee kun je rekenen\n",
        "- ```float``` zijn komma getallen en daarmee kunnen ook berekeningen gemaakt worden\n",
        "- ```str``` zijn variabelen die een tekst bevatten. Je kunt ze wel 3 keer doen, maar er niet mee rekenenen. Ze staat binnen single of double quotes. \n",
        "\n",
        "Oh ja: \n",
        "\n",
        "- parentheses = ( )\n",
        "- brackets = [ ]\n",
        "- Curly braces = { }\n",
        "- Single quotes = ' '\n",
        "- Double quotes = \" \"\n"
      ],
      "metadata": {
        "id": "W3CzblpW5OaG"
      }
    },
    {
      "cell_type": "markdown",
      "source": [
        "## Deel 3b: Lists, dicts en Tuples\n",
        "- []: ```List```: Flexibel Je kan er waarden aan toevoegen en verwijderen. Je kan ze sorteren en doorzoeken.\n",
        "- (): ```Tuple```: Vast Je kan er geen waarden aan toevoegen en verwijderen. Je kan ze niet sorteren en doorzoeken.\n",
        "- {}: ```Dictionary```: Beschrijving. Je kan er waarden aan toevoegen en verwijderen. Je kan ze sorteren en doorzoeken. Je kan ze ook opzoeken op een bepaalde waarde.\n"
      ],
      "metadata": {
        "id": "QfjNj8Xw5-JQ"
      }
    },
    {
      "cell_type": "code",
      "source": [
        "# Dit haalt alle ronden op voor VER\n",
        "VER_all_laps = (session.laps.pick_driver('VER'))\n",
        "#en maakt er een list van:\n",
        "VER_all_laps_list = VER_all_laps['LapTime'].tolist()\n"
      ],
      "metadata": {
        "id": "IZaRblOO56pX"
      },
      "execution_count": 74,
      "outputs": []
    },
    {
      "cell_type": "markdown",
      "source": [
        "## List"
      ],
      "metadata": {
        "id": "teos5OumB-el"
      }
    },
    {
      "cell_type": "code",
      "source": [
        "print(VER_all_laps_list)"
      ],
      "metadata": {
        "colab": {
          "base_uri": "https://localhost:8080/"
        },
        "id": "7I4WYR0hAQSG",
        "outputId": "467ee297-67fd-4c97-af3f-1fdc27b55188"
      },
      "execution_count": 92,
      "outputs": [
        {
          "output_type": "stream",
          "name": "stdout",
          "text": [
            "[Timedelta('0 days 00:01:12.722000'), Timedelta('0 days 00:01:10.373000'), Timedelta('0 days 00:01:10.165000'), Timedelta('0 days 00:01:10.128000'), Timedelta('0 days 00:01:10.260000'), Timedelta('0 days 00:01:10.357000'), Timedelta('0 days 00:01:10.559000'), Timedelta('0 days 00:01:10.763000'), Timedelta('0 days 00:01:10.847000'), Timedelta('0 days 00:01:11.396000'), Timedelta('0 days 00:01:10.918000'), Timedelta('0 days 00:01:11.912000'), Timedelta('0 days 00:01:14.194000'), Timedelta('0 days 00:01:27.886000'), Timedelta('0 days 00:01:10.365000'), Timedelta('0 days 00:01:10.024000'), Timedelta('0 days 00:01:10.361000'), Timedelta('0 days 00:01:10.460000'), Timedelta('0 days 00:01:09.895000'), Timedelta('0 days 00:01:09.895000'), Timedelta('0 days 00:01:09.936000'), Timedelta('0 days 00:01:09.846000'), Timedelta('0 days 00:01:10.103000'), Timedelta('0 days 00:01:10.457000'), Timedelta('0 days 00:01:10.715000'), Timedelta('0 days 00:01:10.312000'), Timedelta('0 days 00:01:10.355000'), Timedelta('0 days 00:01:10.572000'), Timedelta('0 days 00:01:10.485000'), Timedelta('0 days 00:01:10.609000'), Timedelta('0 days 00:01:10.897000'), Timedelta('0 days 00:01:11.073000'), Timedelta('0 days 00:01:11.636000'), Timedelta('0 days 00:01:11.190000'), Timedelta('0 days 00:01:11.173000'), Timedelta('0 days 00:01:14.594000'), Timedelta('0 days 00:01:26.913000'), Timedelta('0 days 00:01:09.226000'), Timedelta('0 days 00:01:09.636000'), Timedelta('0 days 00:01:09.809000'), Timedelta('0 days 00:01:09.971000'), Timedelta('0 days 00:01:09.840000'), Timedelta('0 days 00:01:09.863000'), Timedelta('0 days 00:01:09.642000'), Timedelta('0 days 00:01:09.766000'), Timedelta('0 days 00:01:10.104000'), Timedelta('0 days 00:01:09.989000'), Timedelta('0 days 00:01:10.170000'), Timedelta('0 days 00:01:10.244000'), Timedelta('0 days 00:01:10.347000'), Timedelta('0 days 00:01:10.232000'), Timedelta('0 days 00:01:10.193000'), Timedelta('0 days 00:01:10.828000'), Timedelta('0 days 00:01:10.265000'), Timedelta('0 days 00:01:10.109000'), Timedelta('0 days 00:01:09.733000'), Timedelta('0 days 00:01:09.843000'), Timedelta('0 days 00:01:24.577000'), Timedelta('0 days 00:01:46.133000'), Timedelta('0 days 00:01:09.218000'), Timedelta('0 days 00:01:07.804000'), Timedelta('0 days 00:01:07.275000'), Timedelta('0 days 00:01:07.938000'), Timedelta('0 days 00:01:08.700000'), Timedelta('0 days 00:01:08.580000'), Timedelta('0 days 00:01:08.445000'), Timedelta('0 days 00:01:08.537000'), Timedelta('0 days 00:01:08.900000'), Timedelta('0 days 00:01:08.873000'), Timedelta('0 days 00:01:08.169000'), Timedelta('0 days 00:01:08.539000')]\n"
          ]
        }
      ]
    },
    {
      "cell_type": "code",
      "source": [
        "print(VER_all_laps_list[0]) # de eerste ronde\n"
      ],
      "metadata": {
        "colab": {
          "base_uri": "https://localhost:8080/"
        },
        "id": "qS-Ca5Z97taG",
        "outputId": "0d02e0f2-e2d0-46f3-a1e3-21be21f62a09"
      },
      "execution_count": 93,
      "outputs": [
        {
          "output_type": "stream",
          "name": "stdout",
          "text": [
            "0 days 00:01:12.722000\n"
          ]
        }
      ]
    },
    {
      "cell_type": "markdown",
      "source": [
        "#Dictionary"
      ],
      "metadata": {
        "id": "O7exeHQfCCgi"
      }
    },
    {
      "cell_type": "code",
      "source": [
        "banden = {'H':'hard', 'M':'medium', 'S': 'soft'}"
      ],
      "metadata": {
        "id": "mCJI1g0KCH3q"
      },
      "execution_count": 102,
      "outputs": []
    },
    {
      "cell_type": "code",
      "source": [
        "print(banden['H'])"
      ],
      "metadata": {
        "colab": {
          "base_uri": "https://localhost:8080/"
        },
        "id": "_lIXPJv7CYP1",
        "outputId": "2ef43b9a-315f-4234-9108-544055fa48d1"
      },
      "execution_count": 103,
      "outputs": [
        {
          "output_type": "stream",
          "name": "stdout",
          "text": [
            "hard\n"
          ]
        }
      ]
    },
    {
      "cell_type": "markdown",
      "source": [
        "## Tuple"
      ],
      "metadata": {
        "id": "UhROEKPxCAFy"
      }
    },
    {
      "cell_type": "code",
      "source": [
        "# Een Tuple van de rijders voor mercedes:\n",
        "coureurs = ('HAM', 'BOT','VER') # Normaliter pas je deze in het programma niet meer aan. In een notebook gaat dat natuurlijk wel ;-)"
      ],
      "metadata": {
        "id": "IXSOxnke_sGc"
      },
      "execution_count": 5,
      "outputs": []
    },
    {
      "cell_type": "code",
      "source": [
        "print(coureurs[0])"
      ],
      "metadata": {
        "colab": {
          "base_uri": "https://localhost:8080/"
        },
        "id": "aJx6Ya3HCFCc",
        "outputId": "2c974744-cec5-42b4-dacc-e3b34defbc2d"
      },
      "execution_count": 94,
      "outputs": [
        {
          "output_type": "stream",
          "name": "stdout",
          "text": [
            "HAM\n"
          ]
        }
      ]
    },
    {
      "cell_type": "code",
      "source": [
        "snelste_ronde = {}\n",
        "for rijder in coureurs:\n",
        "  tijd= session.laps.pick_driver(rijder).pick_fastest()['LapTime']\n",
        "  snelste_ronde[rijder] = tijd"
      ],
      "metadata": {
        "id": "4umJyiL-_7NA"
      },
      "execution_count": 90,
      "outputs": []
    },
    {
      "cell_type": "code",
      "source": [
        "print(snelste_ronde_per_rijder)"
      ],
      "metadata": {
        "colab": {
          "base_uri": "https://localhost:8080/"
        },
        "id": "BRZluqb8A-Sf",
        "outputId": "df665af9-0d39-4b71-a895-bc99b75eb6f5"
      },
      "execution_count": 91,
      "outputs": [
        {
          "output_type": "stream",
          "name": "stdout",
          "text": [
            "{'HAM': Timedelta('0 days 00:01:09'), 'BOT': Timedelta('0 days 00:01:09.266000'), 'VER': Timedelta('0 days 00:01:07.275000')}\n"
          ]
        }
      ]
    },
    {
      "cell_type": "code",
      "source": [
        "# met append kun je aan een list toevoegen: \n",
        "teams= [\"Red Bull\", \"Mercedes\", \"Ferrari\"]\n",
        "teams.append(\"Alpha Tauri\")"
      ],
      "metadata": {
        "id": "pf1OLuSSfnhN"
      },
      "execution_count": 3,
      "outputs": []
    },
    {
      "cell_type": "code",
      "source": [
        "# Maar waarom werkt dit dan niet? \n",
        "coureurs.append(\"GAS\")\n",
        "print(coureurs)"
      ],
      "metadata": {
        "colab": {
          "base_uri": "https://localhost:8080/",
          "height": 204
        },
        "id": "5TqVapMBBR5A",
        "outputId": "e213c9a3-612d-44a8-ff2e-1428ae483fa3"
      },
      "execution_count": 6,
      "outputs": [
        {
          "output_type": "error",
          "ename": "AttributeError",
          "evalue": "ignored",
          "traceback": [
            "\u001b[0;31m---------------------------------------------------------------------------\u001b[0m",
            "\u001b[0;31mAttributeError\u001b[0m                            Traceback (most recent call last)",
            "\u001b[0;32m<ipython-input-6-8f72980a8cf0>\u001b[0m in \u001b[0;36m<cell line: 2>\u001b[0;34m()\u001b[0m\n\u001b[1;32m      1\u001b[0m \u001b[0;31m# Maar waarom werkt dit dan niet?\u001b[0m\u001b[0;34m\u001b[0m\u001b[0;34m\u001b[0m\u001b[0m\n\u001b[0;32m----> 2\u001b[0;31m \u001b[0mcoureurs\u001b[0m\u001b[0;34m.\u001b[0m\u001b[0mappend\u001b[0m\u001b[0;34m(\u001b[0m\u001b[0;34m\"GAS\"\u001b[0m\u001b[0;34m)\u001b[0m\u001b[0;34m\u001b[0m\u001b[0;34m\u001b[0m\u001b[0m\n\u001b[0m\u001b[1;32m      3\u001b[0m \u001b[0mprint\u001b[0m\u001b[0;34m(\u001b[0m\u001b[0mcoureurs\u001b[0m\u001b[0;34m)\u001b[0m\u001b[0;34m\u001b[0m\u001b[0;34m\u001b[0m\u001b[0m\n",
            "\u001b[0;31mAttributeError\u001b[0m: 'tuple' object has no attribute 'append'"
          ]
        }
      ]
    },
    {
      "cell_type": "code",
      "source": [
        "# aan een dictionary toevoegen is nog makkelijker: \n",
        "snelste_ronde[\"BLA\"] = 0\n",
        "print(snelste_ronde)"
      ],
      "metadata": {
        "colab": {
          "base_uri": "https://localhost:8080/",
          "height": 204
        },
        "id": "cKP6VaUXgUw4",
        "outputId": "d42719a8-0bfc-4cee-80a9-90e651aea8e8"
      },
      "execution_count": 7,
      "outputs": [
        {
          "output_type": "error",
          "ename": "NameError",
          "evalue": "ignored",
          "traceback": [
            "\u001b[0;31m---------------------------------------------------------------------------\u001b[0m",
            "\u001b[0;31mNameError\u001b[0m                                 Traceback (most recent call last)",
            "\u001b[0;32m<ipython-input-7-25c023616bec>\u001b[0m in \u001b[0;36m<cell line: 2>\u001b[0;34m()\u001b[0m\n\u001b[1;32m      1\u001b[0m \u001b[0;31m# aan een dictionary toevoegen is nog makkelijker:\u001b[0m\u001b[0;34m\u001b[0m\u001b[0;34m\u001b[0m\u001b[0m\n\u001b[0;32m----> 2\u001b[0;31m \u001b[0msnelste_ronde\u001b[0m\u001b[0;34m[\u001b[0m\u001b[0;34m\"BLA\"\u001b[0m\u001b[0;34m]\u001b[0m \u001b[0;34m=\u001b[0m \u001b[0;36m0\u001b[0m\u001b[0;34m\u001b[0m\u001b[0;34m\u001b[0m\u001b[0m\n\u001b[0m\u001b[1;32m      3\u001b[0m \u001b[0mprint\u001b[0m\u001b[0;34m(\u001b[0m\u001b[0msnelste_ronde\u001b[0m\u001b[0;34m)\u001b[0m\u001b[0;34m\u001b[0m\u001b[0;34m\u001b[0m\u001b[0m\n",
            "\u001b[0;31mNameError\u001b[0m: name 'snelste_ronde' is not defined"
          ]
        }
      ]
    },
    {
      "cell_type": "code",
      "source": [
        "#  kun je voor 1 coureur de snelste ronde laten zien? \n"
      ],
      "metadata": {
        "id": "BMNM2R-yBn8e"
      },
      "execution_count": null,
      "outputs": []
    }
  ]
}